{
 "cells": [
  {
   "cell_type": "code",
   "execution_count": 2,
   "metadata": {},
   "outputs": [
    {
     "name": "stdout",
     "output_type": "stream",
     "text": [
      "<class 'pandas.core.frame.DataFrame'>\n",
      "RangeIndex: 768 entries, 0 to 767\n",
      "Data columns (total 9 columns):\n",
      "Pregnancies                 768 non-null int64\n",
      "Glucose                     768 non-null int64\n",
      "BloodPressure               768 non-null int64\n",
      "SkinThickness               768 non-null int64\n",
      "Insulin                     768 non-null int64\n",
      "BMI                         768 non-null float64\n",
      "DiabetesPedigreeFunction    768 non-null float64\n",
      "Age                         768 non-null int64\n",
      "Outcome                     768 non-null int64\n",
      "dtypes: float64(2), int64(7)\n",
      "memory usage: 54.1 KB\n",
      "Outcome Distribution:\n"
     ]
    },
    {
     "data": {
      "image/png": "[encoded data removed]",
      "text/plain": [
       "<Figure size 432x288 with 1 Axes>"
      ]
     },
     "metadata": {
      "needs_background": "light"
     },
     "output_type": "display_data"
    },
    {
     "data": {
      "image/png": "[encoded data removed]",
      "text/plain": [
       "<Figure size 432x288 with 2 Axes>"
      ]
     },
     "metadata": {
      "needs_background": "light"
     },
     "output_type": "display_data"
    },
    {
     "name": "stdout",
     "output_type": "stream",
     "text": [
      "              precision    recall  f1-score   support\n",
      "\n",
      "           0       0.74      0.93      0.82       157\n",
      "           1       0.67      0.30      0.41        74\n",
      "\n",
      "   micro avg       0.73      0.73      0.73       231\n",
      "   macro avg       0.70      0.61      0.62       231\n",
      "weighted avg       0.71      0.73      0.69       231\n",
      "\n"
     ]
    }
   ],
   "source": [
    "#!/usr/bin/env python\n",
    "# coding: utf-8\n",
    "\n",
    "# In[96]:\n",
    "\n",
    "\n",
    "import pandas as pd\n",
    "import numpy as np\n",
    "import matplotlib.pyplot as plt\n",
    "import seaborn as sns\n",
    "import warnings\n",
    "warnings.filterwarnings(\"ignore\")\n",
    "\n",
    "\n",
    "dataset = pd.read_csv('https://raw.githubusercontent.com/plotly/datasets/master/diabetes.csv')#veriyi okuyoruz\n",
    "dataset.info()  #verimizde eksik var mı kontrol ediyoruz.768 verimiz var.Eksiğimiz yok veri sisteminde.\n",
    "\n",
    "dataset.columns = ['Pregnancies','Glucose','BloodPressure','SkinThickness','Insulin','BMI','DiabetesPedigreeFunction','Age','Outcome']\n",
    "\n",
    "plt.figure(figsize=(6,4))      #burda görselin size ını belirliyoruz.\n",
    "sns.countplot(dataset['Outcome']) #görselleştirme işlemini seaborn den countplot ile görselleştiriyoruz.\n",
    "print('Outcome Distribution:') \n",
    "dataset['Outcome'].value_counts()  #hedef değişkenin kaçar tane olduğunu öğreniyoruz.\n",
    "plt.show()  #plot un gösterimi.bu fonksiyonu koymayınca, ikinci sns(confusion matrix) e gelince tabloyu göstermiyor.Confusion matrix yanlış gösteriyor ayrıca.\n",
    "\n",
    "X = dataset.iloc[:, [1,2,3,4,5,6,7]].values #diğer değişkenleri aldık\n",
    "y = dataset.iloc[:, 8].values #outcome değeri\n",
    "\n",
    " \n",
    "from sklearn.model_selection import train_test_split #test ve eğitim kısmını belirleme(oran)\n",
    "X_train, X_test, y_train, y_test = train_test_split(X, y, test_size = 0.3, random_state = 0) #yüzde 30 unu teste ayırdık.geri kalan eğitim\n",
    "\n",
    "from sklearn.preprocessing import StandardScaler #normalizasyon.ayn birimde değiller diğer değişkenler\n",
    "sc_X = StandardScaler()\n",
    "X_train = sc_X.fit_transform(X_train)\n",
    "X_test = sc_X.transform(X_test)\n",
    "\n",
    "from sklearn.tree import DecisionTreeClassifier #tree classification oluşturma \n",
    "classifier = DecisionTreeClassifier(max_depth = 2, random_state=5)\n",
    "classifier.fit(X_train, y_train) #eğitime geçişi\n",
    "\n",
    "from sklearn.metrics import accuracy_score \n",
    "from sklearn.metrics import confusion_matrix as cm\n",
    "\n",
    "y_pred = classifier.predict(X_test) #confusion matrix oluşumu\n",
    "score = round(accuracy_score(y_test, y_pred), 3)\n",
    "cm1 = cm(y_test, y_pred)\n",
    "sns.heatmap(cm1, annot=True, fmt=\".0f\")\n",
    "plt.xlabel('Estimated Values')\n",
    "plt.ylabel('Exact Values')\n",
    "plt.title('Accuracy Score: {0}'.format(score), size = 17)\n",
    "plt.show()  #matrisin gösterimi\n",
    "\n",
    "from sklearn.metrics import classification_report\n",
    "print(classification_report(y_test, y_pred, target_names=['0', '1']))\n",
    "\n",
    "\n",
    "\n",
    "\n",
    "\n",
    "\n"
   ]
  },
  {
   "cell_type": "code",
   "execution_count": null,
   "metadata": {},
   "outputs": [],
   "source": []
  },
  {
   "cell_type": "code",
   "execution_count": null,
   "metadata": {},
   "outputs": [],
   "source": []
  },
  {
   "cell_type": "code",
   "execution_count": null,
   "metadata": {},
   "outputs": [],
   "source": []
  },
  {
   "cell_type": "code",
   "execution_count": null,
   "metadata": {},
   "outputs": [],
   "source": []
  }
 ],
 "metadata": {
  "kernelspec": {
   "display_name": "Python 3",
   "language": "python",
   "name": "python3"
  },
  "language_info": {
   "codemirror_mode": {
    "name": "ipython",
    "version": 3
   },
   "file_extension": ".py",
   "mimetype": "text/x-python",
   "name": "python",
   "nbconvert_exporter": "python",
   "pygments_lexer": "ipython3",
   "version": "3.7.1"
  }
 },
 "nbformat": 4,
 "nbformat_minor": 2
}
